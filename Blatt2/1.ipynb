{
 "cells": [
  {
   "metadata": {},
   "cell_type": "markdown",
   "source": [
    "Implementieren Sie den in der Vorlesung besprochenen GA und wenden Sie den Algorithmus nacheinander auf beide Probleme an. Sie können gern auch die Java-Klassen im Paket aima.core.search.local bzw. die Python-Klassen in search.py als Ausgangspunkt nutzen.1\n",
    "\n",
    "Untersuchen Sie systematisch unterschiedliche Varianten/Einstellungen der in der VL vorgestellten Operatoren. Führen Sie pro Einstellung jeweils mind. 100 Läufe durch und messen Sie die besprochenen Kennzahlen.\n",
    "\n",
    "Erstellen Sie eine geeignete (systematische!) Auswertung Ihrer Experimente."
   ],
   "id": "e50e769b85a44211"
  },
  {
   "metadata": {
    "ExecuteTime": {
     "end_time": "2025-10-21T16:12:22.813656Z",
     "start_time": "2025-10-21T16:12:22.808894Z"
    }
   },
   "cell_type": "code",
   "source": [
    "#8 Damen Problem\n",
    "\n",
    "# [1,2,3,4,5,6,7,8] \"node\"\n",
    "\n",
    "import random as rnd\n",
    "\n",
    "\n",
    "def getr():\n",
    "    return rnd.randrange(1,9)\n",
    "\n",
    "def getrn():\n",
    "    return [getr(),getr(),getr(),getr(),getr(),getr(),getr(),getr()]\n",
    "\n",
    "def printLoesung(l):\n",
    "    i = 1\n",
    "    for x in l:\n",
    "        print(f\"{i}: {x}\")  # sauber formatiert\n",
    "        i += 1\n",
    "\n",
    "def zielfunktion(board):\n",
    "    conflicts = 0\n",
    "    for i in range(8):#von 1 - 8\n",
    "        for j in range(i + 1, 8):\n",
    "            # Gleich Zeile → gleiche Reihe\n",
    "            if board[i] == board[j]:\n",
    "                conflicts += 1\n",
    "            # Diagonalprüfung\n",
    "            elif abs(board[i] - board[j]) == abs(i - j):\n",
    "                conflicts += 1\n",
    "    return conflicts\n",
    "\n",
    "def \n",
    "\n",
    "#---- start --------\n",
    "\n",
    "startnode = getrn()\n",
    "#print(startnode)\n",
    "#printLoesung(startnode)\n",
    "print(f\"lösung {zielfunktion(startnode)}\")\n"
   ],
   "id": "3e781fbd96509a32",
   "outputs": [
    {
     "name": "stdout",
     "output_type": "stream",
     "text": [
      "[7, 5, 8, 7, 8, 6, 4, 3]\n",
      "1: 7\n",
      "2: 5\n",
      "3: 8\n",
      "4: 7\n",
      "5: 8\n",
      "6: 6\n",
      "7: 4\n",
      "8: 3\n",
      "lösung 11\n"
     ]
    }
   ],
   "execution_count": 19
  },
  {
   "metadata": {},
   "cell_type": "code",
   "outputs": [],
   "execution_count": null,
   "source": "",
   "id": "f05dcb5e1cd28c4a"
  }
 ],
 "metadata": {
  "kernelspec": {
   "display_name": "Python 3",
   "language": "python",
   "name": "python3"
  },
  "language_info": {
   "codemirror_mode": {
    "name": "ipython",
    "version": 2
   },
   "file_extension": ".py",
   "mimetype": "text/x-python",
   "name": "python",
   "nbconvert_exporter": "python",
   "pygments_lexer": "ipython2",
   "version": "2.7.6"
  }
 },
 "nbformat": 4,
 "nbformat_minor": 5
}
