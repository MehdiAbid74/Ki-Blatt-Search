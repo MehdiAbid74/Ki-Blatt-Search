{
 "cells": [
  {
   "metadata": {},
   "cell_type": "markdown",
   "source": [
    "Implementieren Sie den in der Vorlesung besprochenen GA und wenden Sie den Algorithmus nacheinander auf beide Probleme an. Sie können gern auch die Java-Klassen im Paket aima.core.search.local bzw. die Python-Klassen in search.py als Ausgangspunkt nutzen.1\n",
    "\n",
    "Untersuchen Sie systematisch unterschiedliche Varianten/Einstellungen der in der VL vorgestellten Operatoren. Führen Sie pro Einstellung jeweils mind. 100 Läufe durch und messen Sie die besprochenen Kennzahlen.\n",
    "\n",
    "Erstellen Sie eine geeignete (systematische!) Auswertung Ihrer Experimente."
   ],
   "id": "e50e769b85a44211"
  },
  {
   "metadata": {
    "ExecuteTime": {
     "end_time": "2025-10-21T16:42:21.221007Z",
     "start_time": "2025-10-21T16:42:21.208013Z"
    }
   },
   "cell_type": "code",
   "source": [
    "#8 Damen Problem\n",
    "\n",
    "# [1,2,3,4,5,6,7,8] \"node\"\n",
    "\n",
    "import random as rnd\n",
    "\n",
    "\n",
    "def getr():\n",
    "    return rnd.randrange(1,9)\n",
    "\n",
    "def getrn():\n",
    "    return [getr(),getr(),getr(),getr(),getr(),getr(),getr(),getr()]\n",
    "\n",
    "def printLoesung(l):\n",
    "    i = 1\n",
    "    for x in l:\n",
    "        print(f\"{i}: {x}\")  # sauber formatiert\n",
    "        i += 1\n",
    "\n",
    "def zielfunktion(board):\n",
    "    conflicts = 0\n",
    "    for i in range(8):#von 1 - 8\n",
    "        for j in range(i + 1, 8):\n",
    "            # Gleich Zeile → gleiche Reihe\n",
    "            if board[i] == board[j]:\n",
    "                conflicts += 1\n",
    "            # Diagonalprüfung\n",
    "            elif abs(board[i] - board[j]) == abs(i - j):\n",
    "                conflicts += 1\n",
    "    return conflicts\n",
    "\n",
    "def mutation(l):\n",
    "    l[rnd.randrange(0, len(l))] = getr()\n",
    "\n",
    "def crossover(l, m):\n",
    "    schnittpunkt = rnd.randrange(1, len(l))# Zufälliger Punkt (nicht 0, nicht Ende)\n",
    "    # Neues Kind = linker Teil von l + rechter Teil von m\n",
    "    kind = l[:schnittpunkt] + m[schnittpunkt:]\n",
    "    return kind\n",
    "\n",
    "\n",
    "def printgenpool(l,evo):\n",
    "    print(f\"--- {evo} ---\")\n",
    "    i = 1\n",
    "    for x in l:\n",
    "        print(f\"{i}: {x}::{zielfunktion(x)}\")\n",
    "        i+=1\n",
    "\n",
    "def selection(genpool):\n",
    "    # Zwei zufällige Eltern wählen\n",
    "    p1 = rnd.choice(genpool)\n",
    "    p2 = rnd.choice(genpool)\n",
    "    # Neues Kind erzeugen\n",
    "    child = crossover(p1, p2)\n",
    "    # Mutieren\n",
    "    mutation(child)\n",
    "    # Kind zur Population hinzufügen\n",
    "    genpool.append(child)\n",
    "\n",
    "genpool = [getrn(),getrn()]\n",
    "evolution = 0\n",
    "\n",
    "def completerun():\n",
    "    selection(genpool)\n",
    "    #printgenpool(genpool,evolution)\n",
    "    killBad()\n",
    "\n",
    "def findbest(genpool):\n",
    "    highest = 50\n",
    "    node = 0\n",
    "    for g in genpool:\n",
    "        if zielfunktion(g) < highest:\n",
    "            highest = zielfunktion(g)\n",
    "            node = g\n",
    "    print(f\"{node}: {zielfunktion(node)}\")\n",
    "\n",
    "def findworst(genpool):\n",
    "    highest = 0\n",
    "    node = 0\n",
    "    for g in genpool:\n",
    "        if zielfunktion(g) > highest:\n",
    "            highest = zielfunktion(g)\n",
    "            node = g\n",
    "    return node\n",
    "\n",
    "def killBad():\n",
    "    if len(genpool) >= 20:\n",
    "        while len(genpool) > 20:\n",
    "            genpool.remove(findworst(genpool))\n",
    "\n",
    "\n",
    "#---- start --------\n",
    "\n",
    "printgenpool(genpool,evolution)\n",
    "for i in range(100):\n",
    "\n",
    "    evolution += 1\n",
    "    completerun()\n",
    "findbest(genpool)"
   ],
   "id": "3e781fbd96509a32",
   "outputs": [
    {
     "name": "stdout",
     "output_type": "stream",
     "text": [
      "--- 0 ---\n",
      "1: [4, 5, 4, 6, 2, 7, 6, 1]::8\n",
      "2: [3, 6, 4, 1, 6, 2, 6, 3]::7\n",
      "[3, 7, 4, 2, 5, 2, 6, 1]: 2\n"
     ]
    }
   ],
   "execution_count": 48
  },
  {
   "metadata": {
    "ExecuteTime": {
     "end_time": "2025-10-21T16:42:25.561793Z",
     "start_time": "2025-10-21T16:42:25.559220Z"
    }
   },
   "cell_type": "code",
   "source": "",
   "id": "120136e4c574a0a4",
   "outputs": [],
   "execution_count": null
  },
  {
   "metadata": {},
   "cell_type": "code",
   "outputs": [],
   "execution_count": null,
   "source": "",
   "id": "e2f35f2e95c6254f"
  }
 ],
 "metadata": {
  "kernelspec": {
   "display_name": "Python 3",
   "language": "python",
   "name": "python3"
  },
  "language_info": {
   "codemirror_mode": {
    "name": "ipython",
    "version": 2
   },
   "file_extension": ".py",
   "mimetype": "text/x-python",
   "name": "python",
   "nbconvert_exporter": "python",
   "pygments_lexer": "ipython2",
   "version": "2.7.6"
  }
 },
 "nbformat": 4,
 "nbformat_minor": 5
}
