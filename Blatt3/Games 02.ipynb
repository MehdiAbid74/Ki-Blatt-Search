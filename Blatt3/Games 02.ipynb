{
 "cells": [
  {
   "metadata": {},
   "cell_type": "markdown",
   "source": [
    "(2P) Implementieren Sie den Minimax-Algorithmus (wie in der VL besprochen) am Beispiel Tic Tac Toe in einer Sprache Ihrer Wahl.\n",
    "\n",
    "(1P) Ergänzen Sie Ihre Implementierung um alpha-beta-Pruning.\n",
    "\n",
    "(1P) Vergleichen Sie die Anzahl der jeweils berechneten Knoten. Überlegen Sie sich dazu ein sinnvolles Szenario.\n",
    "\n",
    "Thema: Anwendung Minimax und alpha-beta-Pruning"
   ],
   "id": "fa7f6cf50352a349"
  },
  {
   "metadata": {
    "ExecuteTime": {
     "end_time": "2025-11-01T10:25:11.901693Z",
     "start_time": "2025-11-01T10:25:11.553723Z"
    }
   },
   "cell_type": "code",
   "source": [
    "# Tic-Tac-Toe Minimax (sauber)\n",
    "import random as rnd\n",
    "\n",
    "MAX_PLAYER = 1\n",
    "MIN_PLAYER = 2\n",
    "EMPTY = 0\n",
    "\n",
    "# Spielfeld initialisieren\n",
    "spieldfeld = [EMPTY] * 9\n",
    "\n",
    "def randomStartZug():\n",
    "    randomfeld = rnd.randint(0, 9)\n",
    "    spieldfeld[randomfeld] = MIN_PLAYER\n",
    "\n",
    "def printTTT(gamestate):\n",
    "    for i in range(3):\n",
    "        print(gamestate[i*3], gamestate[i*3+1], gamestate[i*3+2])\n",
    "    print()\n",
    "\n",
    "# Prüfen, ob ein Spieler gewonnen hat\n",
    "def calcRows(gamestate, player):\n",
    "    return any(all(gamestate[i*3 + j] == player for j in range(3)) for i in range(3))\n",
    "\n",
    "def calcCols(gamestate, player):\n",
    "    return any(all(gamestate[i + j*3] == player for j in range(3)) for i in range(3))\n",
    "\n",
    "def calcDiags(gamestate, player):\n",
    "    return (gamestate[0] == gamestate[4] == gamestate[8] == player) or \\\n",
    "           (gamestate[2] == gamestate[4] == gamestate[6] == player)\n",
    "\n",
    "def is_winner(gamestate, player):\n",
    "    return calcRows(gamestate, player) or calcCols(gamestate, player) or calcDiags(gamestate, player)\n",
    "\n",
    "def is_terminal(gamestate):\n",
    "    return is_winner(gamestate, MAX_PLAYER) or is_winner(gamestate, MIN_PLAYER) or EMPTY not in gamestate\n",
    "\n",
    "def utility(gamestate):\n",
    "    if is_winner(gamestate, MAX_PLAYER):\n",
    "        return 1\n",
    "    elif is_winner(gamestate, MIN_PLAYER):\n",
    "        return -1\n",
    "    else:\n",
    "        return 0\n",
    "\n",
    "def get_available_moves(gamestate):\n",
    "    return [i for i, cell in enumerate(gamestate) if cell == EMPTY]\n",
    "\n",
    "# Minimax-Funktionen\n",
    "def max_move(gamestate):\n",
    "    if is_terminal(gamestate):\n",
    "        return utility(gamestate)\n",
    "\n",
    "    value = -float('inf')\n",
    "    for move in get_available_moves(gamestate):\n",
    "        new_state = gamestate.copy()\n",
    "        new_state[move] = MAX_PLAYER\n",
    "        value = max(value, min_move(new_state))\n",
    "    return value\n",
    "\n",
    "def min_move(gamestate):\n",
    "    if is_terminal(gamestate):\n",
    "        return utility(gamestate)\n",
    "\n",
    "    value = float('inf')\n",
    "    for move in get_available_moves(gamestate):\n",
    "        new_state = gamestate.copy()\n",
    "        new_state[move] = MIN_PLAYER\n",
    "        value = min(value, max_move(new_state))\n",
    "    return value\n",
    "\n",
    "# Besten Zug für MAX ermitteln\n",
    "def minimax(gamestate):\n",
    "    best_value = -float('inf')\n",
    "    best_move = None\n",
    "    for move in get_available_moves(gamestate):\n",
    "        new_state = gamestate.copy()\n",
    "        new_state[move] = MAX_PLAYER\n",
    "        score = min_move(new_state)\n",
    "        if score > best_value:\n",
    "            best_value = score\n",
    "            best_move = move\n",
    "    print(f\"Best Move: {best_move}, Best Score: {best_value}\")\n",
    "    return best_move\n",
    "\n",
    "# Beispiel: Minimax starten\n",
    "randomStartZug()\n",
    "printTTT(spieldfeld)\n",
    "best = minimax(spieldfeld)\n",
    "print(f\"MAX sollte auf Feld {best} setzen.\")\n",
    "spieldfeld[best] = MAX_PLAYER\n",
    "print(\"---\")\n",
    "printTTT(spieldfeld)\n"
   ],
   "id": "a7ecbc04e43f679a",
   "outputs": [
    {
     "name": "stdout",
     "output_type": "stream",
     "text": [
      "0 0 0\n",
      "0 2 0\n",
      "0 0 0\n",
      "\n",
      "Best Move: 0, Best Score: 0\n",
      "MAX sollte auf Feld 0 setzen.\n",
      "---\n",
      "1 0 0\n",
      "0 2 0\n",
      "0 0 0\n",
      "\n"
     ]
    }
   ],
   "execution_count": 74
  },
  {
   "metadata": {
    "ExecuteTime": {
     "end_time": "2025-11-01T10:25:11.906002Z",
     "start_time": "2025-11-01T10:25:11.904227Z"
    }
   },
   "cell_type": "code",
   "source": "",
   "id": "372d5ccee987b618",
   "outputs": [],
   "execution_count": null
  }
 ],
 "metadata": {
  "kernelspec": {
   "display_name": "Python 3",
   "language": "python",
   "name": "python3"
  },
  "language_info": {
   "codemirror_mode": {
    "name": "ipython",
    "version": 2
   },
   "file_extension": ".py",
   "mimetype": "text/x-python",
   "name": "python",
   "nbconvert_exporter": "python",
   "pygments_lexer": "ipython2",
   "version": "2.7.6"
  }
 },
 "nbformat": 4,
 "nbformat_minor": 5
}
